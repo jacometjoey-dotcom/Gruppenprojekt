{
 "cells": [
  {
   "cell_type": "markdown",
   "id": "maritime-agent",
   "metadata": {
    "slideshow": {
     "slide_type": "slide"
    }
   },
   "source": [
    "# Lecture 3\n",
    "\n",
    "# Section 1: More on control statements\n",
    "\n",
    "Hint: All the examples and explanations from this second part of today's lecture can be found in chapter 3 of the book."
   ]
  },
  {
   "cell_type": "markdown",
   "id": "enclosed-interpretation",
   "metadata": {
    "slideshow": {
     "slide_type": "slide"
    }
   },
   "source": [
    "## 1.1 Program Development: Sequence-Controlled Iteration\n",
    "* Most challenging part of solving a problem on a computer is __developing an algorithm__ for the solution. \n",
    "* Once a correct algorithm has been specified, creating a working Python program from the algorithm is typically straightforward. "
   ]
  },
  {
   "cell_type": "markdown",
   "id": "junior-russell",
   "metadata": {
    "slideshow": {
     "slide_type": "slide"
    }
   },
   "source": [
    "### 1.1.1 Requirements Statement\n",
    "* Describes **what a program is supposed to do, but not how** the program should do it. \n",
    "* Example:\n",
    "> A class of ten students took a quiz. Their grades (integers in the range 0 – 100) are 98, 76, 71, 87, 83, 90, 57, 79, 82, 94. Determine the class average on the quiz.\n",
    "* Once you know the problem’s requirements, you can begin creating an **algorithm to solve it**. \n",
    "* Then, you can **implement that solution** as a program."
   ]
  },
  {
   "cell_type": "markdown",
   "id": "sitting-karen",
   "metadata": {
    "slideshow": {
     "slide_type": "slide"
    }
   },
   "source": [
    "### The Algorithm\n",
    "* The algorithm for solving this problem must: \n",
    "    * Keep a running total of the grades. \n",
    "    * Calculate the average—the total of the grades divided by the number of grades. \n",
    "    * Display the result. "
   ]
  },
  {
   "cell_type": "markdown",
   "id": "billion-niger",
   "metadata": {
    "slideshow": {
     "slide_type": "slide"
    }
   },
   "source": [
    "### 1.1.2 Pseudocode for the Algorithm\n",
    "_Set total to zero_  \n",
    "_Set grade counter to zero_  \n",
    "_Set grades to a list of the ten grades_  \n",
    "  \n",
    "_For each grade in the grades list:_  \n",
    "> _Add the grade to the total_  \n",
    "> _Add one to the grade counter_  \n",
    "  \n",
    "_Set the class average to the total divided by the number of grades_  \n",
    "_Display the class average_\n"
   ]
  },
  {
   "cell_type": "markdown",
   "id": "elect-portfolio",
   "metadata": {
    "slideshow": {
     "slide_type": "slide"
    }
   },
   "source": [
    "### 1.1.3 Coding the Algorithm in Python"
   ]
  },
  {
   "cell_type": "code",
   "execution_count": null,
   "id": "macro-trail",
   "metadata": {
    "slideshow": {
     "slide_type": "-"
    }
   },
   "outputs": [],
   "source": [
    "# initialization phase\n",
    "total = 0  # sum of grades\n",
    "grade_counter = 0\n",
    "grades = [98, 76, 71, 87, 83, 90, 57, 79, 82, 94]  # list of 10 grades, we will cover lists later in detail\n",
    "\n",
    "# processing phase\n",
    "for grade in grades:  \n",
    "    total += grade  # add current grade to the running total, remember augmented assignments?\n",
    "    grade_counter += 1  # indicate that one more grade was processed\n",
    "\n",
    "# termination phase\n",
    "average = total / grade_counter\n",
    "print(f'Class average is {average}') # here we have a formatString - see next slide"
   ]
  },
  {
   "cell_type": "markdown",
   "id": "preceding-mobile",
   "metadata": {
    "slideshow": {
     "slide_type": "notes"
    }
   },
   "source": [
    "### Execution Phases\n",
    "* __Initialization__ phase creates the variables needed to process the grades and set these variables to appropriate initial values.\n",
    "* __Processing__ phase processes the grades, calculating the running total and counting the number of grades processed so far.\n",
    "* __Termination__ phase calculates and displays the class average.\n",
    "\n",
    "\n",
    "Many scripts can be decomposed into these three phases."
   ]
  },
  {
   "cell_type": "markdown",
   "id": "permanent-movement",
   "metadata": {
    "slideshow": {
     "slide_type": "slide"
    }
   },
   "source": [
    "### Format Strings\n",
    "* An **f-string** (short for format string) allows inserting values into a string.\n",
    "* The letter f before the string’s opening quote indicates it’s an f-string. \n",
    "* You specify where to insert values by using placeholders delimited by curly braces ({ and }). \n",
    "* `{average}` converts the variable average’s value to a string representation, then replaces `{average}` with that **replacement text**. \n",
    "* Replacement-text expressions may contain values, variables or other expressions.\n",
    "\n",
    "You may have a look here for a **short summary on f-Strings**: https://zetcode.com/python/fstring/"
   ]
  },
  {
   "cell_type": "markdown",
   "id": "atomic-latex",
   "metadata": {
    "slideshow": {
     "slide_type": "slide"
    }
   },
   "source": [
    "## 1.2 Program Development: Sentinel-Controlled Iteration (Sentinel / Markierung / Hinweiszeichen)\n",
    "* Generalized class-average problem requirements statement:\n",
    "> Develop a class-averaging program that processes an arbitrary number of grades each time the program executes.\n",
    "* Does not state what the grades are or how many there are. \n",
    "* The program processes an arbitrary number of grades.\n",
    "* Use a **sentinel value** (also called a **signal value**, a **dummy value** or a **flag value**) to indicate “end of data entry.” \n",
    "* Sentinel-controlled iteration is often called **indefinite iteration** because the number of iterations is not known before the loop begins executing.\n",
    "* A sentinel value must not be confused with any acceptable input value."
   ]
  },
  {
   "cell_type": "markdown",
   "id": "natural-apparatus",
   "metadata": {
    "slideshow": {
     "slide_type": "slide"
    }
   },
   "source": [
    "### Developing the Pseudocode Algorithm with Top-Down, Stepwise Refinement\n",
    "* Begin with a pseudocode representation of the **top**: \n",
    "> _Determine the class average for the quiz_\n",
    "* Single statement that conveys the program’s overall function.\n",
    "* Rarely conveys enough detail from which to write a program.\n",
    "* Specifies what should be done, but not how to implement it. \n",
    "* Begin the refinement process by decomposing the top into a sequence of smaller tasks&mdash;**divide and conquer**. "
   ]
  },
  {
   "cell_type": "markdown",
   "id": "closing-drawing",
   "metadata": {
    "slideshow": {
     "slide_type": "slide"
    }
   },
   "source": [
    "### First refinement\n",
    "> _Initialize variables  \n",
    "> Input, sum and count the quiz grades  \n",
    "> Calculate and display the class average_\n",
    "\n",
    "* Each refinement represents the complete algorithm.\n",
    "* These pseudocode statements correspond to the three execution phases described in the preceding version. "
   ]
  },
  {
   "cell_type": "markdown",
   "id": "convertible-georgia",
   "metadata": {
    "slideshow": {
     "slide_type": "slide"
    }
   },
   "source": [
    "### Second Refinement (1 of 3)\n",
    "* Commit to specific variables. \n",
    "    * a grade variable in which each successive user input will be stored,\n",
    "    * a running total of the grades, \n",
    "    * a count of how many grades have been processed and\n",
    "    * a variable that contains the calculated average. \n",
    "\n",
    "\"_Initialize variables_\" can be refined as follows:\n",
    "> _Initialize total to zero  \n",
    "> Initialize grade counter to zero_\n",
    "\n",
    "* Other variables created when they’re needed. "
   ]
  },
  {
   "cell_type": "markdown",
   "id": "visible-adams",
   "metadata": {
    "slideshow": {
     "slide_type": "slide"
    }
   },
   "source": [
    "### Second Refinement (2 of 3)\n",
    "\"_Input, sum and count the quiz grades_\" can be refined as follows:\n",
    "> _Input the first grade (possibly the sentinel)  \n",
    "> While the user has not entered the sentinel_  \n",
    ">> _Add this grade into the running total  \n",
    ">> Add one to the grade counter  \n",
    ">> Input the next grade (possibly the sentinel)_"
   ]
  },
  {
   "cell_type": "markdown",
   "id": "figured-exposure",
   "metadata": {
    "slideshow": {
     "slide_type": "slide"
    }
   },
   "source": [
    "### Second Refinement (3 of 3)\n",
    "\"_Calculate and display the class average_\" can be refined as follows:\n",
    ">_If the counter is not equal to zero_  \n",
    ">>_Set the average to the total divided by the grade counter  \n",
    ">>Display the average_    \n",
    "\n",
    ">_Else_  \n",
    ">>_Display “No grades were entered”_"
   ]
  },
  {
   "cell_type": "markdown",
   "id": "helpful-payroll",
   "metadata": {
    "slideshow": {
     "slide_type": "slide"
    }
   },
   "source": [
    "**Complete second refinement**: \n",
    "> _Initialize total to zero_  \n",
    "> _Initialize grade counter to zero_  \n",
    ">  \n",
    "> _Input the first grade (possibly the sentinel_)  \n",
    "> _While the user has not entered the sentinel_  \n",
    ">> _Add this grade into the running total_  \n",
    ">> _Add one to the grade counter_  \n",
    ">> _Input the next grade (possibly the sentinel)_  \n",
    ">  \n",
    "> _If the counter is not equal to zero_  \n",
    ">> _Set the average to the total divided by the counter_  \n",
    ">> _Display the average_  \n",
    "\n",
    "> _Else_  \n",
    ">> _Display “No grades were entered”_  \n",
    "\n",
    "* Sometimes more than two refinements are necessary. \n",
    "* Stop refining when there is enough detail to convert the pseudocode to Python. \n",
    "* Blank lines for readability. "
   ]
  },
  {
   "cell_type": "markdown",
   "id": "inside-passage",
   "metadata": {
    "slideshow": {
     "slide_type": "slide"
    }
   },
   "source": [
    "### Implementing Sentinel-Controlled Iteration \n"
   ]
  },
  {
   "cell_type": "code",
   "execution_count": null,
   "id": "intimate-census",
   "metadata": {
    "slideshow": {
     "slide_type": "-"
    }
   },
   "outputs": [],
   "source": [
    "# initialization phase\n",
    "total = 0  # sum of grades\n",
    "grade_counter = 0  # number of grades entered\n",
    "\n",
    "# processing phase\n",
    "grade = int(input('Enter grade, -1 to end: '))  # get one grade and covert it to an integer\n",
    "\n",
    "while grade != -1: # -1 is the sentinel value; if it is entered we want to stop the while loop\n",
    "    total += grade\n",
    "    grade_counter += 1\n",
    "    grade = int(input('Enter grade, -1 to end: '))\n",
    "\n",
    "# termination phase\n",
    "if grade_counter != 0: # here we avoid any \"devision by zero\" error\n",
    "    average = total / grade_counter\n",
    "    print(f'Class average is {average:.2f}') # another format String; after the colon we have a format specifier\n",
    "else:\n",
    "    print('No grades were entered')"
   ]
  },
  {
   "cell_type": "markdown",
   "id": "ecological-building",
   "metadata": {
    "slideshow": {
     "slide_type": "notes"
    }
   },
   "source": [
    "### Program Logic for Sentinel-Controlled Iteration \n",
    "* Read the first value before reaching the `while` statement. \n",
    "* The value input determines whether the program’s flow of control should enter the `while`’s suite. \n",
    "* If the condition is `False`, the user entered `-1`, so the suite does not execute. \n",
    "* If the condition is `True`, the suite executes, adding the `grade` value to the `total` and incrementing the `grade_counter`. \n",
    "* Then we input another grade from the user and the `while`’s condition is tested again. \n",
    "* `grade` is always input immediately before the program tests the `while` condition. \n",
    "* When the sentinel value is input, the loop terminates, and the program does not add `–1` to the `total`. \n",
    "* After the loop terminates, the `if`…`else` statement executes."
   ]
  },
  {
   "cell_type": "markdown",
   "id": "regulated-arcade",
   "metadata": {
    "slideshow": {
     "slide_type": "slide"
    }
   },
   "source": [
    "### Formatting the Class Average with Two Decimal Places\n",
    "* We formatted the class average with two digits to the right of the decimal point. \n",
    "* In an f-string, you can optionally follow a replacement-text expression with a colon (`:`) and a **format specifier** that describes how to format the replacement text.\n",
    "* The format specifier `.2f` formats the average as a floating-point number (`f`) with two digits to the right of the decimal point (`.2`). \n",
    "* Rounds to the hundredths position\n",
    "\n",
    "Again, have a look here: https://zetcode.com/python/fstring/"
   ]
  },
  {
   "cell_type": "markdown",
   "id": "female-magnet",
   "metadata": {
    "slideshow": {
     "slide_type": "slide"
    }
   },
   "source": [
    "## 1.3 Small exercise on program development (with potentially nested Control Statements)\n",
    "### Requirements statement:\n",
    "> A University offers CS exercise sessions. Last year, several of the students who completed these sessions took the final examination. The university wants to know how well its students did on the exam. You have been asked to write a program to summarize the results. You have been given a list of these exactly 10 students. Next to each name is written a 1 if the student passed the exam and a 2 if the student failed.\n",
    "\n",
    "The list may look like this:\n",
    "> - student 01 - 1\n",
    "> - student 02 - 1\n",
    "> - student 03 - 2\n",
    "> - ...\n",
    "> - student 10 - 1\n",
    "\n",
    "Analyze the results of the exam as follows:\n",
    "* Input each test result (i.e., a 1 or a 2). Display the message “Enter result” each time the program requests another test result.  \n",
    "* Count the number of test results of each type.\n",
    "* Display a summary of the test results indicating the number of students who passed and the number of students who failed.\n",
    "* If more than eighty percent of the students passed the exam, display “Bonus to tutor!”\n"
   ]
  },
  {
   "cell_type": "code",
   "execution_count": null,
   "id": "ceramic-queensland",
   "metadata": {
    "slideshow": {
     "slide_type": "-"
    }
   },
   "outputs": [],
   "source": [
    "########################################################################################\n",
    "# Maybe you want to start with some pseudo code, you may write it into this code cell\n",
    "# this code cell in order not to deal with markdown language\n",
    "########################################################################################\n",
    "\n",
    "# In general we may expect our three phases:\n",
    "\n",
    "# initialization phase\n",
    "<your pseudo code goes here>\n",
    "\n",
    "\n",
    "# processing phase\n",
    "<your pseudo code goes here>\n",
    "\n",
    "\n",
    "# termination phase\n",
    "<your pseudo code goes here>\n",
    "\n"
   ]
  },
  {
   "cell_type": "markdown",
   "id": "practical-plumbing",
   "metadata": {
    "slideshow": {
     "slide_type": "slide"
    }
   },
   "source": [
    "### Implementing the Algorithm"
   ]
  },
  {
   "cell_type": "code",
   "execution_count": null,
   "id": "59b8c1c8",
   "metadata": {
    "slideshow": {
     "slide_type": "-"
    }
   },
   "outputs": [],
   "source": [
    "########################################\n",
    "# And now please implement the program\n",
    "########################################\n",
    "\n",
    "\n",
    "# initialization phase\n",
    "<your code goes here>\n",
    "\n",
    "\n",
    "# processing phase\n",
    "<your code goes here>\n",
    "\n",
    "\n",
    "# termination phase\n",
    "<your code goes here>\n",
    "\n"
   ]
  },
  {
   "cell_type": "markdown",
   "id": "loved-intranet",
   "metadata": {
    "slideshow": {
     "slide_type": "slide"
    }
   },
   "source": [
    "## 1.4 Built-In Function `range`: A Deeper Look\n",
    "* Function `range`’s two-argument version produces a sequence of consecutive integers from its first argument’s value up to, but not including, the second argument’s value\n",
    "\n",
    "**Note:** _You have seen this in assignment 02_"
   ]
  },
  {
   "cell_type": "code",
   "execution_count": null,
   "id": "strategic-delta",
   "metadata": {
    "slideshow": {
     "slide_type": "skip"
    }
   },
   "outputs": [],
   "source": [
    "for number in range(5, 10):\n",
    "    print(number, end=' ')"
   ]
  },
  {
   "cell_type": "markdown",
   "id": "seeing-blank",
   "metadata": {
    "slideshow": {
     "slide_type": "skip"
    }
   },
   "source": [
    "* Function `range`’s three-argument version produces a sequence of integers from its first argument’s value up to, but not including, the second argument’s value, incrementing by the third argument’s value (the step)"
   ]
  },
  {
   "cell_type": "code",
   "execution_count": null,
   "id": "false-occupation",
   "metadata": {
    "slideshow": {
     "slide_type": "-"
    }
   },
   "outputs": [],
   "source": [
    "for number in range(0, 10, 2):\n",
    "    print(number, end=' ')"
   ]
  },
  {
   "cell_type": "markdown",
   "id": "threatened-queens",
   "metadata": {
    "slideshow": {
     "slide_type": "notes"
    }
   },
   "source": [
    "* If the third argument is negative, the sequence progresses from the first argument’s value down to, but not including the second argument’s value, decrementing by the third argument’s value"
   ]
  },
  {
   "cell_type": "code",
   "execution_count": null,
   "id": "logical-classic",
   "metadata": {
    "slideshow": {
     "slide_type": "-"
    }
   },
   "outputs": [],
   "source": [
    "for number in range(10, 0, -2):\n",
    "    print(number, end=' ')"
   ]
  },
  {
   "cell_type": "markdown",
   "id": "surgical-philadelphia",
   "metadata": {
    "slideshow": {
     "slide_type": "slide"
    }
   },
   "source": [
    "## 1.5 `break` and `continue` Statements"
   ]
  },
  {
   "cell_type": "markdown",
   "id": "organizational-edwards",
   "metadata": {},
   "source": [
    "* Executing a `break` statement in a `while` or `for` loop immediately exits that statement. "
   ]
  },
  {
   "cell_type": "code",
   "execution_count": null,
   "id": "considerable-legislation",
   "metadata": {},
   "outputs": [],
   "source": [
    "for number in range(100):\n",
    "    if number == 10:\n",
    "        break\n",
    "    print(number, end=' ')"
   ]
  },
  {
   "cell_type": "markdown",
   "id": "lined-advance",
   "metadata": {
    "slideshow": {
     "slide_type": "notes"
    }
   },
   "source": [
    "* Executing a `continue` statement in a `while` or `for` loop skips the remainder of the loop’s suite. \n",
    "    * In a `while` loop, the condition is then tested to determine whether the loop should continue executing. \n",
    "    * In a `for` loop, the loop processes the next item in the sequence (if any)"
   ]
  },
  {
   "cell_type": "code",
   "execution_count": null,
   "id": "gothic-death",
   "metadata": {
    "scrolled": true,
    "slideshow": {
     "slide_type": "fragment"
    }
   },
   "outputs": [],
   "source": [
    "for number in range(10):\n",
    "    if number == 5:\n",
    "        continue\n",
    "    print(number, end=' ')"
   ]
  },
  {
   "cell_type": "markdown",
   "id": "nervous-president",
   "metadata": {
    "slideshow": {
     "slide_type": "slide"
    }
   },
   "source": [
    "## 1.6 Boolean Operators `and`, `or` and `not` "
   ]
  },
  {
   "cell_type": "markdown",
   "id": "massive-appraisal",
   "metadata": {},
   "source": [
    "### Boolean Operator `and`\n",
    "* Ensure that two conditions are both `True` with the **Boolean `and` operator**. "
   ]
  },
  {
   "cell_type": "code",
   "execution_count": null,
   "id": "indoor-employee",
   "metadata": {},
   "outputs": [],
   "source": [
    "gender = 'Female'\n",
    "age = 70"
   ]
  },
  {
   "cell_type": "code",
   "execution_count": null,
   "id": "early-taiwan",
   "metadata": {},
   "outputs": [],
   "source": [
    "if gender == 'Female' and age >= 65:\n",
    "    print('Senior female')"
   ]
  },
  {
   "cell_type": "markdown",
   "id": "approximate-ceremony",
   "metadata": {
    "slideshow": {
     "slide_type": "notes"
    }
   },
   "source": [
    "* _Truth table_ for the `and` operator:\n",
    "\n",
    "expression1 | expression2 | expression1 `and` expression2\n",
    ":-------- | :-------- | :--------\n",
    "`False` \t| `False` \t| `False` \n",
    "`False` \t| `True`  \t| `False` \n",
    "`True`  \t| `False` \t| `False` \n",
    "`True`  \t| `True`  \t| `True`  "
   ]
  },
  {
   "cell_type": "markdown",
   "id": "subject-crawford",
   "metadata": {
    "slideshow": {
     "slide_type": "slide"
    }
   },
   "source": [
    "### Boolean Operator `or`\n",
    "* Ensure that one _or_ both of two conditions are `True` with the **Boolean `or` operator**."
   ]
  },
  {
   "cell_type": "code",
   "execution_count": null,
   "id": "associate-motivation",
   "metadata": {
    "slideshow": {
     "slide_type": "skip"
    }
   },
   "outputs": [],
   "source": [
    "semester_average = 83"
   ]
  },
  {
   "cell_type": "code",
   "execution_count": null,
   "id": "cellular-corner",
   "metadata": {
    "slideshow": {
     "slide_type": "skip"
    }
   },
   "outputs": [],
   "source": [
    "final_exam = 95"
   ]
  },
  {
   "cell_type": "code",
   "execution_count": null,
   "id": "ignored-production",
   "metadata": {
    "slideshow": {
     "slide_type": "skip"
    }
   },
   "outputs": [],
   "source": [
    "if semester_average >= 90 or final_exam >= 90:\n",
    "    print('Student gets an A')"
   ]
  },
  {
   "cell_type": "markdown",
   "id": "velvet-helen",
   "metadata": {
    "slideshow": {
     "slide_type": "notes"
    }
   },
   "source": [
    "* _Truth table_ for the `or` operator:\n",
    "\n",
    "expression1 | expression2 | expression1 or expression2\n",
    ":-------- | :-------- | :--------\n",
    "`False` \t| `False` \t| `False` \n",
    "`False` \t| `True` \t| `True` \n",
    "`True` \t| `False` \t| `True` \n",
    "`True` \t| `True` \t| `True` "
   ]
  },
  {
   "cell_type": "markdown",
   "id": "fitted-feeding",
   "metadata": {
    "slideshow": {
     "slide_type": "notes"
    }
   },
   "source": [
    "### Improving Performance with Short-Circuit Evaluation\n",
    "* Python stops evaluating an `and` expression as soon as it knows whether the entire condition is `False`. \n",
    "* Python stops evaluating an `or` expression as soon as it knows whether the entire condition is `True`. \n",
    "* In expressions that use `and`, make the condition that’s more likely to be `False` the leftmost condition. \n",
    "* In `or` operator expressions, make the condition that’s more likely to be `True` the leftmost condition. \n"
   ]
  },
  {
   "cell_type": "markdown",
   "id": "metropolitan-moderator",
   "metadata": {
    "slideshow": {
     "slide_type": "slide"
    }
   },
   "source": [
    "### Boolean Operator `not` \n",
    "* “Reverse” the meaning of a condition.\n",
    "* **Unary operator**—it has only _one_ operand. "
   ]
  },
  {
   "cell_type": "code",
   "execution_count": null,
   "id": "disabled-engagement",
   "metadata": {},
   "outputs": [],
   "source": [
    "grade = 87"
   ]
  },
  {
   "cell_type": "code",
   "execution_count": null,
   "id": "criminal-facial",
   "metadata": {},
   "outputs": [],
   "source": [
    "if not grade == -1:\n",
    "    print('The next grade is', grade)"
   ]
  },
  {
   "cell_type": "code",
   "execution_count": null,
   "id": "homeless-determination",
   "metadata": {},
   "outputs": [],
   "source": [
    "if grade != -1:\n",
    "    print('The next grade is', grade)"
   ]
  },
  {
   "cell_type": "markdown",
   "id": "permanent-round",
   "metadata": {
    "slideshow": {
     "slide_type": "notes"
    }
   },
   "source": [
    "* Truth table for the `not` operator. \n",
    "\n",
    "expression | not expression\n",
    ":-------- | :---------\n",
    "`False` \t| `True` \n",
    "`True` \t| `False` "
   ]
  },
  {
   "cell_type": "markdown",
   "id": "polar-gateway",
   "metadata": {
    "slideshow": {
     "slide_type": "slide"
    }
   },
   "source": [
    "## 1.7 Intro to Data Science: Measures of Central Tendency—Mean, Median and Mode \n",
    "* **Measures of central tendency**:\n",
    "    * **mean**—the _average value_ in a set of values. \n",
    "    * **median**—the _middle value_ when all the values are arranged in sorted order.\n",
    "    * **mode**—the _most frequently occurring value_.\n",
    "* Each represents a “central” value in a set of values.\n",
    "    * A value which is in some sense typical of the others."
   ]
  },
  {
   "cell_type": "code",
   "execution_count": null,
   "id": "american-chapel",
   "metadata": {},
   "outputs": [],
   "source": [
    "grades = [85, 93, 45, 89, 85]"
   ]
  },
  {
   "cell_type": "code",
   "execution_count": null,
   "id": "urban-sigma",
   "metadata": {},
   "outputs": [],
   "source": [
    "sum(grades) / len(grades)"
   ]
  },
  {
   "cell_type": "markdown",
   "id": "flexible-diamond",
   "metadata": {
    "slideshow": {
     "slide_type": "slide"
    }
   },
   "source": [
    "* `sum` and `len` are both examples of functional-style programming reductions\n",
    "* The Python Standard Library’s **`statistics`** module provides functions for calculating the **reductions** mean, median and mode."
   ]
  },
  {
   "cell_type": "code",
   "execution_count": null,
   "id": "formed-selection",
   "metadata": {},
   "outputs": [],
   "source": [
    "import statistics"
   ]
  },
  {
   "cell_type": "code",
   "execution_count": null,
   "id": "failing-conservation",
   "metadata": {},
   "outputs": [],
   "source": [
    "statistics.mean(grades)"
   ]
  },
  {
   "cell_type": "code",
   "execution_count": null,
   "id": "unnecessary-model",
   "metadata": {},
   "outputs": [],
   "source": [
    "statistics.median(grades)"
   ]
  },
  {
   "cell_type": "code",
   "execution_count": null,
   "id": "japanese-graphic",
   "metadata": {},
   "outputs": [],
   "source": [
    "statistics.mode(grades)"
   ]
  },
  {
   "cell_type": "markdown",
   "id": "exposed-enhancement",
   "metadata": {
    "slideshow": {
     "slide_type": "fragment"
    }
   },
   "source": [
    "* Sorting `grades` helps you see the median and mode. "
   ]
  },
  {
   "cell_type": "code",
   "execution_count": null,
   "id": "functioning-reproduction",
   "metadata": {},
   "outputs": [],
   "source": [
    "sorted(grades)"
   ]
  },
  {
   "cell_type": "markdown",
   "id": "08c03c95",
   "metadata": {
    "slideshow": {
     "slide_type": "slide"
    }
   },
   "source": [
    "# Let's do a quiz"
   ]
  },
  {
   "cell_type": "markdown",
   "id": "compliant-argument",
   "metadata": {
    "slideshow": {
     "slide_type": "notes"
    }
   },
   "source": [
    " ------\n",
    "&copy;1992&ndash;2020 by Pearson Education, Inc. All Rights Reserved. This content is based on Chapter 1 of the book [**Intro to Python for Computer Science and Data Science: Learning to Program with AI, Big Data and the Cloud**](https://amzn.to/2VvdnxE).         "
   ]
  }
 ],
 "metadata": {
  "celltoolbar": "Slideshow",
  "kernelspec": {
   "display_name": "Python 3 (ipykernel)",
   "language": "python",
   "name": "python3"
  },
  "language_info": {
   "codemirror_mode": {
    "name": "ipython",
    "version": 3
   },
   "file_extension": ".py",
   "mimetype": "text/x-python",
   "name": "python",
   "nbconvert_exporter": "python",
   "pygments_lexer": "ipython3",
   "version": "3.11.5"
  }
 },
 "nbformat": 4,
 "nbformat_minor": 5
}
